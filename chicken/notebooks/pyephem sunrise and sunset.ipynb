{
 "metadata": {
  "name": ""
 },
 "nbformat": 3,
 "nbformat_minor": 0,
 "worksheets": [
  {
   "cells": [
    {
     "cell_type": "code",
     "collapsed": false,
     "input": [
      "import ephem\n",
      "import pytz\n",
      "from datetime import datetime\n",
      "\n",
      "def sunrise_and_sunset_for_date(date=None):\n",
      "    home = ephem.Observer()\n",
      "    home.lat = '37.354108'\n",
      "    home.long = '-121.955236'\n",
      "    \n",
      "    if not date:\n",
      "        today = datetime.today().replace(hour=0, minute=0, second=0)\n",
      "        today = today.replace(tzinfo=pytz.timezone('US/Pacific'))\n",
      "        today_utc = today.astimezone(pytz.UTC)\n",
      "        date = today_utc\n",
      "    \n",
      "    sun = ephem.Sun()\n",
      "    \n",
      "    sunrise = ephem.localtime(home.next_rising(sun, start=today_utc))\n",
      "    sunset = ephem.localtime(home.next_setting(sun, start=today_utc))\n",
      "    return sunrise, sunset"
     ],
     "language": "python",
     "metadata": {},
     "outputs": [
      {
       "output_type": "stream",
       "stream": "stderr",
       "text": [
        "-c:8: DeprecationWarning: PyOS_ascii_strtod and PyOS_ascii_atof are deprecated.  Use PyOS_string_to_double instead.\n",
        "\n"
       ]
      },
      {
       "output_type": "stream",
       "stream": "stderr",
       "text": [
        "WARNING:py.warnings:-c:8: DeprecationWarning: PyOS_ascii_strtod and PyOS_ascii_atof are deprecated.  Use PyOS_string_to_double instead.\n",
        "\n"
       ]
      },
      {
       "output_type": "stream",
       "stream": "stdout",
       "text": [
        "(datetime.datetime(2014, 1, 9, 7, 21, 56, 3), datetime.datetime(2014, 1, 9, 17, 8, 24, 3))\n"
       ]
      }
     ],
     "prompt_number": 25
    },
    {
     "cell_type": "code",
     "collapsed": false,
     "input": [
      "mp\n"
     ],
     "language": "python",
     "metadata": {},
     "outputs": []
    }
   ],
   "metadata": {}
  }
 ]
}