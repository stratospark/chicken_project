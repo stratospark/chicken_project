{
 "metadata": {
  "name": ""
 },
 "nbformat": 3,
 "nbformat_minor": 0,
 "worksheets": [
  {
   "cells": [
    {
     "cell_type": "code",
     "collapsed": false,
     "input": [
      "import pandas as pd\n",
      "import numpy as np\n",
      "\n",
      "rng = pd.date_range('1/1/2011', periods=72, freq='H')\n",
      "ts = pd.Series(np.random.randn(len(rng)), index=rng)"
     ],
     "language": "python",
     "metadata": {},
     "outputs": [],
     "prompt_number": 8
    },
    {
     "cell_type": "code",
     "collapsed": false,
     "input": [
      "ts.head()"
     ],
     "language": "python",
     "metadata": {},
     "outputs": [
      {
       "metadata": {},
       "output_type": "pyout",
       "prompt_number": 10,
       "text": [
        "2011-01-01 00:00:00   -0.650809\n",
        "2011-01-01 01:00:00    0.775221\n",
        "2011-01-01 02:00:00   -0.058490\n",
        "2011-01-01 03:00:00   -0.341085\n",
        "2011-01-01 04:00:00    0.106626\n",
        "Freq: H, dtype: float64"
       ]
      }
     ],
     "prompt_number": 10
    },
    {
     "cell_type": "code",
     "collapsed": false,
     "input": [
      "converted = ts.asfreq('45Min', method='pad')\n",
      "converted.head()"
     ],
     "language": "python",
     "metadata": {},
     "outputs": [
      {
       "metadata": {},
       "output_type": "pyout",
       "prompt_number": 15,
       "text": [
        "2011-01-01 00:00:00   -0.650809\n",
        "2011-01-01 00:45:00   -0.650809\n",
        "2011-01-01 01:30:00    0.775221\n",
        "2011-01-01 02:15:00   -0.058490\n",
        "2011-01-01 03:00:00   -0.341085\n",
        "Freq: 45T, dtype: float64"
       ]
      }
     ],
     "prompt_number": 15
    },
    {
     "cell_type": "code",
     "collapsed": false,
     "input": [
      "ts.ro"
     ],
     "language": "python",
     "metadata": {},
     "outputs": [
      {
       "metadata": {},
       "output_type": "pyout",
       "prompt_number": 18,
       "text": [
        "-0.65080899576291751"
       ]
      }
     ],
     "prompt_number": 18
    },
    {
     "cell_type": "code",
     "collapsed": false,
     "input": [
      "converted = ts.asfreq"
     ],
     "language": "python",
     "metadata": {},
     "outputs": []
    },
    {
     "cell_type": "code",
     "collapsed": false,
     "input": [
      "converted = ts.asfreq"
     ],
     "language": "python",
     "metadata": {},
     "outputs": [],
     "prompt_number": 13
    },
    {
     "cell_type": "code",
     "collapsed": false,
     "input": [
      "hunp.random.pr"
     ],
     "language": "python",
     "metadata": {},
     "outputs": []
    }
   ],
   "metadata": {}
  }
 ]
}